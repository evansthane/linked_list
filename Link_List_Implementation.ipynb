{
 "cells": [
  {
   "cell_type": "markdown",
   "id": "dc5d9bb7-fb6c-4467-9053-bc43fd51346d",
   "metadata": {},
   "source": [
    "## Link List"
   ]
  },
  {
   "cell_type": "code",
   "execution_count": 5,
   "id": "b4313be8-3d15-42f3-aa0d-91c76c83143e",
   "metadata": {},
   "outputs": [
    {
     "name": "stdout",
     "output_type": "stream",
     "text": [
      "{'head': {'value': 2, 'reference': {'value': 3, 'reference': {'value': 55, 'reference': {'value': 46, 'reference': {'value': 48, 'reference': {'value': 100, 'reference': {'value': -28, 'reference': None}}}}}}}, 'tail': {'value': -28, 'reference': None}}\n",
      "2\n",
      "3\n",
      "55\n",
      "46\n",
      "48\n",
      "100\n",
      "-28\n"
     ]
    },
    {
     "name": "stdin",
     "output_type": "stream",
     "text": [
      "Please enter the position of node you want to be deleted from linked list 6\n"
     ]
    },
    {
     "name": "stdout",
     "output_type": "stream",
     "text": [
      "2\n",
      "3\n",
      "55\n",
      "46\n",
      "48\n",
      "-28\n"
     ]
    }
   ],
   "source": [
    "### import ctypes\n",
    "def create_node(value):\n",
    "    node = {}\n",
    "    node.update({\"value\": value, \"reference\": None})\n",
    "    return node\n",
    "\n",
    "def linked_list():\n",
    "    linked_list_ = {}\n",
    "    head = None\n",
    "    tail = None\n",
    "    linked_list_.update({\"head\": None, \"tail\": None})\n",
    "    return linked_list_\n",
    "\n",
    "def insert_node(value, linked_list_):\n",
    "    node = create_node(value)\n",
    "    if linked_list_['head'] == None:\n",
    "        linked_list_.update({\"head\": node})\n",
    "        linked_list_.update({\"tail\": node})\n",
    "    else:\n",
    "        linked_list_['tail']['reference'] = node\n",
    "        linked_list_['tail'] = node\n",
    "\n",
    "def delete_node(linked_list):\n",
    "    matching_index = int(input(\"Please enter the position of node you want to be deleted from linked list\")) - 2\n",
    "    current_dimension = linked_list['head']\n",
    "    for index in range(matching_index):\n",
    "        current_dimension = current_dimension['reference']\n",
    "    current_dimension['reference'] = current_dimension['reference']['reference']\n",
    "        \n",
    "\n",
    "def find_values(a_linked_list):\n",
    "    current_dimension = a_linked_list['head']\n",
    "    while True:\n",
    "        print(current_dimension['value'])\n",
    "        current_dimension = current_dimension['reference']\n",
    "        if current_dimension['reference'] == None:\n",
    "            print(current_dimension['value'])\n",
    "            break\n",
    "\n",
    "linked_lst = linked_list()\n",
    "    \n",
    "insert_node(2, linked_lst)\n",
    "insert_node(3, linked_lst)\n",
    "insert_node(55, linked_lst)\n",
    "insert_node(46, linked_lst)\n",
    "insert_node(48, linked_lst)\n",
    "insert_node(100, linked_lst)\n",
    "insert_node(-28, linked_lst)\n",
    "\n",
    "print(linked_lst)\n",
    "find_values(linked_lst)\n",
    "delete_node(linked_lst)\n",
    "find_values(linked_lst)"
   ]
  },
  {
   "cell_type": "code",
   "execution_count": 14,
   "id": "0db92610-5764-4337-8223-8177ba94a10d",
   "metadata": {},
   "outputs": [
    {
     "name": "stdout",
     "output_type": "stream",
     "text": [
      "{'banana': [1, 2, 3], 'apple': {'new jersey': 13, 'taxas': 2}, 'orange': 100, 'pinaple': 12}\n"
     ]
    }
   ],
   "source": [
    "fruits = {'banana': [1,2,3], 'apple': {'new jersey': 13, 'taxas': 2}, 'orange': 100}\n",
    "fruits['pinaple'] = 12\n",
    "print(fruits)"
   ]
  },
  {
   "cell_type": "code",
   "execution_count": null,
   "id": "fd3b6b40-2f89-4a5c-90d6-02bebc127ec7",
   "metadata": {},
   "outputs": [],
   "source": []
  }
 ],
 "metadata": {
  "kernelspec": {
   "display_name": "Python 3 (ipykernel)",
   "language": "python",
   "name": "python3"
  },
  "language_info": {
   "codemirror_mode": {
    "name": "ipython",
    "version": 3
   },
   "file_extension": ".py",
   "mimetype": "text/x-python",
   "name": "python",
   "nbconvert_exporter": "python",
   "pygments_lexer": "ipython3",
   "version": "3.11.5"
  }
 },
 "nbformat": 4,
 "nbformat_minor": 5
}
